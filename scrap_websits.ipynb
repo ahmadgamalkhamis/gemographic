{
 "cells": [
  {
   "cell_type": "code",
   "execution_count": 2,
   "metadata": {
    "scrolled": false
   },
   "outputs": [
    {
     "name": "stdout",
     "output_type": "stream",
     "text": [
      "\u001b[33mDEPRECATION: Python 2.7 will reach the end of its life on January 1st, 2020. Please upgrade your Python as Python 2.7 won't be maintained after that date. A future version of pip will drop support for Python 2.7. More details about Python 2 support in pip, can be found at https://pip.pypa.io/en/latest/development/release-process/#python-2-support\u001b[0m\n",
      "Collecting scrapy\n",
      "\u001b[?25l  Downloading https://files.pythonhosted.org/packages/3b/e4/69b87d7827abf03dea2ea984230d50f347b00a7a3897bc93f6ec3dafa494/Scrapy-1.8.0-py2.py3-none-any.whl (238kB)\n",
      "\u001b[K     |████████████████████████████████| 245kB 472kB/s eta 0:00:01\n",
      "\u001b[?25hCollecting PyDispatcher>=2.0.5 (from scrapy)\n",
      "  Downloading https://files.pythonhosted.org/packages/cd/37/39aca520918ce1935bea9c356bcbb7ed7e52ad4e31bff9b943dfc8e7115b/PyDispatcher-2.0.5.tar.gz\n",
      "Collecting zope.interface>=4.1.3 (from scrapy)\n",
      "\u001b[?25l  Downloading https://files.pythonhosted.org/packages/88/32/f45c09e4dc2033146f3fdfb66c96bb968805c53f64c43dcb24ee409aaa4f/zope.interface-5.4.0-cp27-cp27mu-manylinux2010_x86_64.whl (247kB)\n",
      "\u001b[K     |████████████████████████████████| 256kB 619kB/s eta 0:00:01\n",
      "\u001b[?25hCollecting service-identity>=16.0.0 (from scrapy)\n",
      "  Downloading https://files.pythonhosted.org/packages/e9/7c/2195b890023e098f9618d43ebc337d83c8b38d414326685339eb024db2f6/service_identity-18.1.0-py2.py3-none-any.whl\n",
      "Collecting w3lib>=1.17.0 (from scrapy)\n",
      "  Downloading https://files.pythonhosted.org/packages/a3/59/b6b14521090e7f42669cafdb84b0ab89301a42f1f1a82fcf5856661ea3a7/w3lib-1.22.0-py2.py3-none-any.whl\n",
      "Requirement already satisfied: six>=1.10.0 in /usr/local/lib/python2.7/dist-packages (from scrapy) (1.12.0)\n",
      "Collecting lxml>=3.5.0 (from scrapy)\n",
      "\u001b[?25l  Downloading https://files.pythonhosted.org/packages/ec/62/829a719f945f5b99516e25ffdc9053dddf4a5b0825bf28c97ac9a15ad2cb/lxml-4.6.3-cp27-cp27mu-manylinux1_x86_64.whl (5.5MB)\n",
      "\u001b[K     |████████████████████████████████| 5.5MB 176kB/s eta 0:00:01\n",
      "\u001b[?25hCollecting queuelib>=1.4.2 (from scrapy)\n",
      "  Downloading https://files.pythonhosted.org/packages/ee/30/0670f4b7a4eef6cf453336c5661eff41da2650e5f143c039b50e033732bd/queuelib-1.6.1-py2.py3-none-any.whl\n",
      "Collecting parsel>=1.5.0 (from scrapy)\n",
      "  Downloading https://files.pythonhosted.org/packages/23/1e/9b39d64cbab79d4362cdd7be7f5e9623d45c4a53b3f7522cd8210df52d8e/parsel-1.6.0-py2.py3-none-any.whl\n",
      "Collecting cryptography>=2.0 (from scrapy)\n",
      "\u001b[?25l  Downloading https://files.pythonhosted.org/packages/bf/a0/c630e9e3b7e7ea2492db1ca47ef7f741ef1a09f19c6642ef1a16ce996d9b/cryptography-3.3.2-cp27-cp27mu-manylinux2010_x86_64.whl (2.6MB)\n",
      "\u001b[K     |████████████████████████████████| 2.6MB 260kB/s eta 0:00:01\n",
      "\u001b[?25hCollecting Twisted>=16.0.0; python_version == \"2.7\" (from scrapy)\n",
      "\u001b[?25l  Downloading https://files.pythonhosted.org/packages/4d/15/890ba1d83dc29ad71427ce5174d5963b84a25c8cf1973815107709fbb520/Twisted-20.3.0-cp27-cp27mu-manylinux1_x86_64.whl (3.2MB)\n",
      "\u001b[K     |████████████████████████████████| 3.2MB 174kB/s eta 0:00:01\n",
      "\u001b[?25hCollecting cssselect>=0.9.1 (from scrapy)\n",
      "  Downloading https://files.pythonhosted.org/packages/3b/d4/3b5c17f00cce85b9a1e6f91096e1cc8e8ede2e1be8e96b87ce1ed09e92c5/cssselect-1.1.0-py2.py3-none-any.whl\n",
      "Collecting pyOpenSSL>=16.2.0 (from scrapy)\n",
      "\u001b[?25l  Downloading https://files.pythonhosted.org/packages/b2/5e/06351ede29fd4899782ad335c2e02f1f862a887c20a3541f17c3fa1a3525/pyOpenSSL-20.0.1-py2.py3-none-any.whl (54kB)\n",
      "\u001b[K     |████████████████████████████████| 61kB 246kB/s eta 0:00:01\n",
      "\u001b[?25hCollecting protego>=0.1.15 (from scrapy)\n",
      "\u001b[?25l  Downloading https://files.pythonhosted.org/packages/db/6e/bf6d5e4d7cf233b785719aaec2c38f027b9c2ed980a0015ec1a1cced4893/Protego-0.1.16.tar.gz (3.2MB)\n",
      "\u001b[K     |████████████████████████████████| 3.2MB 573kB/s eta 0:00:01\n",
      "\u001b[?25hRequirement already satisfied: setuptools in /usr/lib/python2.7/dist-packages (from zope.interface>=4.1.3->scrapy) (20.7.0)\n",
      "Requirement already satisfied: attrs>=16.0.0 in /usr/local/lib/python2.7/dist-packages (from service-identity>=16.0.0->scrapy) (19.1.0)\n",
      "Requirement already satisfied: ipaddress; python_version < \"3.3\" in /usr/local/lib/python2.7/dist-packages (from service-identity>=16.0.0->scrapy) (1.0.22)\n",
      "Collecting pyasn1-modules (from service-identity>=16.0.0->scrapy)\n",
      "\u001b[?25l  Downloading https://files.pythonhosted.org/packages/95/de/214830a981892a3e286c3794f41ae67a4495df1108c3da8a9f62159b9a9d/pyasn1_modules-0.2.8-py2.py3-none-any.whl (155kB)\n",
      "\u001b[K     |████████████████████████████████| 163kB 422kB/s eta 0:00:01\n",
      "\u001b[?25hCollecting pyasn1 (from service-identity>=16.0.0->scrapy)\n",
      "\u001b[?25l  Downloading https://files.pythonhosted.org/packages/62/1e/a94a8d635fa3ce4cfc7f506003548d0a2447ae76fd5ca53932970fe3053f/pyasn1-0.4.8-py2.py3-none-any.whl (77kB)\n",
      "\u001b[K     |████████████████████████████████| 81kB 492kB/s eta 0:00:01\n",
      "\u001b[?25hRequirement already satisfied: functools32; python_version < \"3.0\" in /usr/local/lib/python2.7/dist-packages (from parsel>=1.5.0->scrapy) (3.2.3.post2)\n",
      "Requirement already satisfied: enum34; python_version < \"3\" in /usr/local/lib/python2.7/dist-packages (from cryptography>=2.0->scrapy) (1.1.6)\n",
      "Collecting cffi>=1.12 (from cryptography>=2.0->scrapy)\n",
      "\u001b[?25l  Downloading https://files.pythonhosted.org/packages/ab/a7/1df1dcd222c9a35d2d0c4c123bd55a533ed2d07b09909ad085829deea4d6/cffi-1.14.5-cp27-cp27mu-manylinux1_x86_64.whl (389kB)\n",
      "\u001b[K     |████████████████████████████████| 399kB 213kB/s eta 0:00:01\n",
      "\u001b[?25hCollecting PyHamcrest!=1.10.0,>=1.9.0 (from Twisted>=16.0.0; python_version == \"2.7\"->scrapy)\n",
      "\u001b[?25l  Downloading https://files.pythonhosted.org/packages/d9/6b/fb2e701f25303c620149923d98085c6d7b052d112044764cbf00cc07469e/PyHamcrest-1.10.1.tar.gz (43kB)\n",
      "\u001b[K     |████████████████████████████████| 51kB 278kB/s eta 0:00:01\n",
      "\u001b[?25hCollecting Automat>=0.3.0 (from Twisted>=16.0.0; python_version == \"2.7\"->scrapy)\n",
      "  Downloading https://files.pythonhosted.org/packages/dd/83/5f6f3c1a562674d65efc320257bdc0873ec53147835aeef7762fe7585273/Automat-20.2.0-py2.py3-none-any.whl\n",
      "Collecting hyperlink>=17.1.1 (from Twisted>=16.0.0; python_version == \"2.7\"->scrapy)\n",
      "\u001b[?25l  Downloading https://files.pythonhosted.org/packages/6e/aa/8caf6a0a3e62863cbb9dab27135660acba46903b703e224f14f447e57934/hyperlink-21.0.0-py2.py3-none-any.whl (74kB)\n",
      "\u001b[K     |████████████████████████████████| 81kB 332kB/s eta 0:00:01\n",
      "\u001b[?25hCollecting incremental>=16.10.1 (from Twisted>=16.0.0; python_version == \"2.7\"->scrapy)\n",
      "  Downloading https://files.pythonhosted.org/packages/99/3b/4f80dd10cb716f3a9e22ae88f026d25c47cc3fdf82c2747f3d59c98e4ff1/incremental-21.3.0-py2.py3-none-any.whl\n",
      "Collecting constantly>=15.1 (from Twisted>=16.0.0; python_version == \"2.7\"->scrapy)\n",
      "  Downloading https://files.pythonhosted.org/packages/b9/65/48c1909d0c0aeae6c10213340ce682db01b48ea900a7d9fce7a7910ff318/constantly-15.1.0-py2.py3-none-any.whl\n",
      "Collecting pycparser (from cffi>=1.12->cryptography>=2.0->scrapy)\n",
      "\u001b[?25l  Downloading https://files.pythonhosted.org/packages/ae/e7/d9c3a176ca4b02024debf82342dab36efadfc5776f9c8db077e8f6e71821/pycparser-2.20-py2.py3-none-any.whl (112kB)\n",
      "\u001b[K     |████████████████████████████████| 112kB 340kB/s eta 0:00:01\n",
      "\u001b[?25hCollecting typing; python_version < \"3.5\" (from hyperlink>=17.1.1->Twisted>=16.0.0; python_version == \"2.7\"->scrapy)\n",
      "  Downloading https://files.pythonhosted.org/packages/0b/cb/da856e81731833b94da70a08712f658416266a5fb2a9d9e426c8061becef/typing-3.10.0.0-py2-none-any.whl\n",
      "Requirement already satisfied: idna>=2.5 in /home/ahmed/.local/lib/python2.7/site-packages (from hyperlink>=17.1.1->Twisted>=16.0.0; python_version == \"2.7\"->scrapy) (2.6)\n",
      "Building wheels for collected packages: PyDispatcher, protego, PyHamcrest\n",
      "  Building wheel for PyDispatcher (setup.py) ... \u001b[?25ldone\n",
      "\u001b[?25h  Created wheel for PyDispatcher: filename=PyDispatcher-2.0.5-cp27-none-any.whl size=12684 sha256=41b1bb5128086dfca344cd4cd42ba9db3c295ccbe0c439ccf07930ce54218c7f\n",
      "  Stored in directory: /home/ahmed/.cache/pip/wheels/88/99/96/cfef6665f9cb1522ee6757ae5955feedf2fe25f1737f91fa7f\n",
      "  Building wheel for protego (setup.py) ... \u001b[?25ldone\n",
      "\u001b[?25h  Created wheel for protego: filename=Protego-0.1.16-cp27-none-any.whl size=8639 sha256=9429e5bcff1b63a107eeb4ff49cb1861ae7886490e444c85bfd7c7978c35cd7a\n",
      "  Stored in directory: /home/ahmed/.cache/pip/wheels/51/01/d1/4a2286a976dccd025ba679acacfe37320540df0f2283ecab12\n"
     ]
    },
    {
     "name": "stdout",
     "output_type": "stream",
     "text": [
      "  Building wheel for PyHamcrest (setup.py) ... \u001b[?25ldone\n",
      "\u001b[?25h  Created wheel for PyHamcrest: filename=PyHamcrest-1.10.1-cp27-none-any.whl size=53321 sha256=c494f4b53d5f670b23b911a816fd799e3efab7675e520ba1674b546733faba1d\n",
      "  Stored in directory: /home/ahmed/.cache/pip/wheels/8f/88/5d/2d12b9e226ee11ce171a603275d8dd6546d93202466b7fe173\n",
      "Successfully built PyDispatcher protego PyHamcrest\n",
      "\u001b[31mERROR: twisted 20.3.0 has requirement attrs>=19.2.0, but you'll have attrs 19.1.0 which is incompatible.\u001b[0m\n",
      "\u001b[31mERROR: automat 20.2.0 has requirement attrs>=19.2.0, but you'll have attrs 19.1.0 which is incompatible.\u001b[0m\n",
      "Installing collected packages: PyDispatcher, zope.interface, pyasn1, pyasn1-modules, pycparser, cffi, cryptography, service-identity, w3lib, lxml, queuelib, cssselect, parsel, PyHamcrest, Automat, typing, hyperlink, incremental, constantly, Twisted, pyOpenSSL, protego, scrapy\n",
      "\u001b[31mERROR: Could not install packages due to an EnvironmentError: [Errno 13] Permission denied: '/usr/local/bin/automat-visualize'\n",
      "Consider using the `--user` option or check the permissions.\n",
      "\u001b[0m\n",
      "\u001b[33mWARNING: You are using pip version 19.2.3, however version 20.3.4 is available.\n",
      "You should consider upgrading via the 'pip install --upgrade pip' command.\u001b[0m\n"
     ]
    }
   ],
   "source": [
    "!pip install scrapy"
   ]
  },
  {
   "cell_type": "code",
   "execution_count": null,
   "metadata": {},
   "outputs": [],
   "source": []
  },
  {
   "cell_type": "code",
   "execution_count": 5,
   "metadata": {},
   "outputs": [
    {
     "name": "stdout",
     "output_type": "stream",
     "text": [
      "Collecting pip\n",
      "  Downloading pip-21.1.1-py3-none-any.whl (1.5 MB)\n",
      "\u001b[K     |████████████████████████████████| 1.5 MB 183 kB/s eta 0:00:01\n",
      "\u001b[?25hInstalling collected packages: pip\n",
      "  Attempting uninstall: pip\n",
      "    Found existing installation: pip 20.2.4\n",
      "    Uninstalling pip-20.2.4:\n",
      "      Successfully uninstalled pip-20.2.4\n",
      "Successfully installed pip-21.1.1\n",
      "Note: you may need to restart the kernel to use updated packages.\n"
     ]
    }
   ],
   "source": [
    "pip install --upgrade pip"
   ]
  },
  {
   "cell_type": "code",
   "execution_count": 6,
   "metadata": {},
   "outputs": [
    {
     "name": "stdout",
     "output_type": "stream",
     "text": [
      "Collecting scrapy\n",
      "  Downloading Scrapy-2.5.0-py2.py3-none-any.whl (254 kB)\n",
      "\u001b[K     |████████████████████████████████| 254 kB 369 kB/s eta 0:00:01\n",
      "\u001b[?25hCollecting itemloaders>=1.0.1\n",
      "  Downloading itemloaders-1.0.4-py3-none-any.whl (11 kB)\n",
      "Collecting parsel>=1.5.0\n",
      "  Using cached parsel-1.6.0-py2.py3-none-any.whl (13 kB)\n",
      "Requirement already satisfied: cryptography>=2.0 in /home/ahmed/anaconda3/lib/python3.8/site-packages (from scrapy) (3.1.1)\n",
      "Collecting service-identity>=16.0.0\n",
      "  Using cached service_identity-18.1.0-py2.py3-none-any.whl (11 kB)\n",
      "Collecting itemadapter>=0.1.0\n",
      "  Downloading itemadapter-0.2.0-py3-none-any.whl (9.3 kB)\n",
      "Collecting h2<4.0,>=3.0\n",
      "  Downloading h2-3.2.0-py2.py3-none-any.whl (65 kB)\n",
      "\u001b[K     |████████████████████████████████| 65 kB 87 kB/s  eta 0:00:01\n",
      "\u001b[?25hRequirement already satisfied: zope.interface>=4.1.3 in /home/ahmed/anaconda3/lib/python3.8/site-packages (from scrapy) (5.1.2)\n",
      "Collecting w3lib>=1.17.0\n",
      "  Using cached w3lib-1.22.0-py2.py3-none-any.whl (20 kB)\n",
      "Collecting cssselect>=0.9.1\n",
      "  Using cached cssselect-1.1.0-py2.py3-none-any.whl (16 kB)\n",
      "Collecting queuelib>=1.4.2\n",
      "  Using cached queuelib-1.6.1-py2.py3-none-any.whl (12 kB)\n",
      "Requirement already satisfied: pyOpenSSL>=16.2.0 in /home/ahmed/anaconda3/lib/python3.8/site-packages (from scrapy) (19.1.0)\n",
      "Collecting Twisted[http2]>=17.9.0\n",
      "  Downloading Twisted-21.2.0-py3-none-any.whl (3.1 MB)\n",
      "\u001b[K     |████████████████████████████████| 3.1 MB 84 kB/s eta 0:00:012\n",
      "\u001b[?25hCollecting protego>=0.1.15\n",
      "  Using cached Protego-0.1.16.tar.gz (3.2 MB)\n",
      "Collecting PyDispatcher>=2.0.5\n",
      "  Downloading PyDispatcher-2.0.5.zip (47 kB)\n",
      "\u001b[K     |████████████████████████████████| 47 kB 244 kB/s eta 0:00:01\n",
      "\u001b[?25hRequirement already satisfied: lxml>=3.5.0 in /home/ahmed/anaconda3/lib/python3.8/site-packages (from scrapy) (4.6.1)\n",
      "Requirement already satisfied: six>=1.4.1 in /home/ahmed/anaconda3/lib/python3.8/site-packages (from cryptography>=2.0->scrapy) (1.15.0)\n",
      "Requirement already satisfied: cffi!=1.11.3,>=1.8 in /home/ahmed/anaconda3/lib/python3.8/site-packages (from cryptography>=2.0->scrapy) (1.14.3)\n",
      "Requirement already satisfied: pycparser in /home/ahmed/anaconda3/lib/python3.8/site-packages (from cffi!=1.11.3,>=1.8->cryptography>=2.0->scrapy) (2.20)\n",
      "Collecting hpack<4,>=3.0\n",
      "  Downloading hpack-3.0.0-py2.py3-none-any.whl (38 kB)\n",
      "Collecting hyperframe<6,>=5.2.0\n",
      "  Downloading hyperframe-5.2.0-py2.py3-none-any.whl (12 kB)\n",
      "Collecting jmespath>=0.9.5\n",
      "  Downloading jmespath-0.10.0-py2.py3-none-any.whl (24 kB)\n",
      "Requirement already satisfied: attrs>=16.0.0 in /home/ahmed/anaconda3/lib/python3.8/site-packages (from service-identity>=16.0.0->scrapy) (20.3.0)\n",
      "Collecting pyasn1-modules\n",
      "  Using cached pyasn1_modules-0.2.8-py2.py3-none-any.whl (155 kB)\n",
      "Collecting pyasn1\n",
      "  Using cached pyasn1-0.4.8-py2.py3-none-any.whl (77 kB)\n",
      "Collecting constantly>=15.1\n",
      "  Using cached constantly-15.1.0-py2.py3-none-any.whl (7.9 kB)\n",
      "Collecting Automat>=0.8.0\n",
      "  Using cached Automat-20.2.0-py2.py3-none-any.whl (31 kB)\n",
      "Collecting hyperlink>=17.1.1\n",
      "  Using cached hyperlink-21.0.0-py2.py3-none-any.whl (74 kB)\n",
      "Collecting incremental>=16.10.1\n",
      "  Using cached incremental-21.3.0-py2.py3-none-any.whl (15 kB)\n",
      "Collecting priority<2.0,>=1.1.0\n",
      "  Downloading priority-1.3.0-py2.py3-none-any.whl (11 kB)\n",
      "Requirement already satisfied: idna>=2.5 in /home/ahmed/anaconda3/lib/python3.8/site-packages (from hyperlink>=17.1.1->Twisted[http2]>=17.9.0->scrapy) (2.10)\n",
      "Requirement already satisfied: setuptools in /home/ahmed/anaconda3/lib/python3.8/site-packages (from zope.interface>=4.1.3->scrapy) (50.3.1.post20201107)\n",
      "Building wheels for collected packages: protego, PyDispatcher\n",
      "  Building wheel for protego (setup.py) ... \u001b[?25ldone\n",
      "\u001b[?25h  Created wheel for protego: filename=Protego-0.1.16-py3-none-any.whl size=7765 sha256=e63827fdf0365b6f24f670fc5b0b9854f8808ea82712a7f6d716bdfd06d81f48\n",
      "  Stored in directory: /home/ahmed/.cache/pip/wheels/91/64/36/bd0d11306cb22a78c7f53d603c7eb74ebb6c211703bc40b686\n",
      "  Building wheel for PyDispatcher (setup.py) ... \u001b[?25ldone\n",
      "\u001b[?25h  Created wheel for PyDispatcher: filename=PyDispatcher-2.0.5-py3-none-any.whl size=11515 sha256=77ac2cfee7c621f8aab93caa10481d1cbd3695cee53aebdc74b46ab814ec596d\n",
      "  Stored in directory: /home/ahmed/.cache/pip/wheels/3c/31/7f/d7d7b5f0b9bad841ed856138ff0c5ee2bf2e04dbeb413097c8\n",
      "Successfully built protego PyDispatcher\n",
      "Installing collected packages: w3lib, pyasn1, incremental, hyperlink, hyperframe, hpack, cssselect, constantly, Automat, Twisted, pyasn1-modules, priority, parsel, jmespath, itemadapter, h2, service-identity, queuelib, PyDispatcher, protego, itemloaders, scrapy\n",
      "Successfully installed Automat-20.2.0 PyDispatcher-2.0.5 Twisted-21.2.0 constantly-15.1.0 cssselect-1.1.0 h2-3.2.0 hpack-3.0.0 hyperframe-5.2.0 hyperlink-21.0.0 incremental-21.3.0 itemadapter-0.2.0 itemloaders-1.0.4 jmespath-0.10.0 parsel-1.6.0 priority-1.3.0 protego-0.1.16 pyasn1-0.4.8 pyasn1-modules-0.2.8 queuelib-1.6.1 scrapy-2.5.0 service-identity-18.1.0 w3lib-1.22.0\n"
     ]
    }
   ],
   "source": [
    "!../anaconda3/bin/pip3 install scrapy"
   ]
  },
  {
   "cell_type": "code",
   "execution_count": 7,
   "metadata": {},
   "outputs": [],
   "source": [
    "import scrapy"
   ]
  },
  {
   "cell_type": "code",
   "execution_count": 8,
   "metadata": {},
   "outputs": [],
   "source": [
    "class BlogSpider(scrapy.Spider):\n",
    "    name = 'blogspider'\n",
    "    start_urls = ['https://www.zyte.com/blog/']\n",
    "\n",
    "    def parse(self, response):\n",
    "        for title in response.css('.oxy-post-title'):\n",
    "            yield {'title': title.css('::text').get()}\n",
    "\n",
    "        for next_page in response.css('a.next'):\n",
    "            yield response.follow(next_page, self.parse)\n"
   ]
  },
  {
   "cell_type": "code",
   "execution_count": 10,
   "metadata": {},
   "outputs": [],
   "source": [
    "spider = BlogSpider()\n"
   ]
  },
  {
   "cell_type": "code",
   "execution_count": 13,
   "metadata": {},
   "outputs": [
    {
     "ename": "NameError",
     "evalue": "name 'site' is not defined",
     "output_type": "error",
     "traceback": [
      "\u001b[0;31m---------------------------------------------------------------------------\u001b[0m",
      "\u001b[0;31mNameError\u001b[0m                                 Traceback (most recent call last)",
      "\u001b[0;32m<ipython-input-13-dfd8a05505ed>\u001b[0m in \u001b[0;36m<module>\u001b[0;34m\u001b[0m\n\u001b[0;32m----> 1\u001b[0;31m \u001b[0mspider\u001b[0m\u001b[0;34m.\u001b[0m\u001b[0mparse\u001b[0m\u001b[0;34m(\u001b[0m\u001b[0msite\u001b[0m\u001b[0;34m)\u001b[0m\u001b[0;34m\u001b[0m\u001b[0;34m\u001b[0m\u001b[0m\n\u001b[0m",
      "\u001b[0;31mNameError\u001b[0m: name 'site' is not defined"
     ]
    }
   ],
   "source": [
    "import requests as r\n",
    "\n",
    "spider.parse(site)"
   ]
  },
  {
   "cell_type": "code",
   "execution_count": null,
   "metadata": {},
   "outputs": [],
   "source": []
  }
 ],
 "metadata": {
  "kernelspec": {
   "display_name": "Python 3",
   "language": "python",
   "name": "python3"
  },
  "language_info": {
   "codemirror_mode": {
    "name": "ipython",
    "version": 3
   },
   "file_extension": ".py",
   "mimetype": "text/x-python",
   "name": "python",
   "nbconvert_exporter": "python",
   "pygments_lexer": "ipython3",
   "version": "3.8.5"
  }
 },
 "nbformat": 4,
 "nbformat_minor": 4
}
